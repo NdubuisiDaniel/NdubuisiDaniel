{
  "nbformat": 4,
  "nbformat_minor": 0,
  "metadata": {
    "colab": {
      "name": "Machine_Learning_tutorial_W3.ipynb",
      "provenance": [],
      "authorship_tag": "ABX9TyOMZAD5D1Dn45Zthzuvk03M",
      "include_colab_link": true
    },
    "kernelspec": {
      "name": "python3",
      "display_name": "Python 3"
    },
    "language_info": {
      "name": "python"
    }
  },
  "cells": [
    {
      "cell_type": "markdown",
      "metadata": {
        "id": "view-in-github",
        "colab_type": "text"
      },
      "source": [
        "<a href=\"https://colab.research.google.com/github/NdubuisiDaniel/NdubuisiDaniel/blob/main/Machine_Learning_tutorial_W3.ipynb\" target=\"_parent\"><img src=\"https://colab.research.google.com/assets/colab-badge.svg\" alt=\"Open In Colab\"/></a>"
      ]
    },
    {
      "cell_type": "markdown",
      "source": [
        "Random Distribution and Histogram"
      ],
      "metadata": {
        "id": "Mk8DxDO-5S-E"
      }
    },
    {
      "cell_type": "code",
      "execution_count": null,
      "metadata": {
        "id": "mN4B_7Ly2i9J"
      },
      "outputs": [],
      "source": [
        "import numpy\n",
        "import matplotlib.pyplot as plt\n"
      ]
    },
    {
      "cell_type": "code",
      "source": [
        "x = numpy.random.uniform(0.0, 5.0, 100)\n",
        "print(x)\n"
      ],
      "metadata": {
        "colab": {
          "base_uri": "https://localhost:8080/"
        },
        "id": "0Jl86RUg2rjH",
        "outputId": "2a6f20c9-ce71-4f46-d6fa-980def9ff6a2"
      },
      "execution_count": null,
      "outputs": [
        {
          "output_type": "stream",
          "name": "stdout",
          "text": [
            "[4.1046219  4.60513594 1.71946404 3.50738033 2.13184936 2.23932706\n",
            " 1.16243002 0.49364691 1.57464015 1.06287002 4.44223186 1.23322209\n",
            " 0.46989848 3.47982339 4.1766672  3.14400362 4.14943975 1.4002776\n",
            " 3.26000935 0.2821354  1.32845999 1.00004688 0.85889456 4.97258029\n",
            " 4.15819248 0.84748506 3.13570364 0.40737916 1.65552848 3.84887076\n",
            " 1.98323023 0.69575687 4.55195133 4.30902142 2.89117427 0.18563562\n",
            " 0.71301061 2.78227657 2.51808474 1.2745293  1.99403948 0.07812597\n",
            " 2.86384463 3.97440166 3.68961207 1.83860953 2.04636625 3.5702767\n",
            " 3.28288349 2.35328807 4.26622579 2.89958108 1.62764966 1.76849337\n",
            " 0.89507211 1.06581517 4.28715799 1.57181915 3.72991397 3.40390606\n",
            " 1.61618037 4.85720748 1.49841647 0.85997297 0.09888845 2.11152494\n",
            " 3.61557935 1.90828081 3.63189282 1.5565195  3.42563351 3.92037415\n",
            " 1.63658125 3.00502159 4.68711409 4.07627504 4.39411358 3.24691136\n",
            " 4.21700013 2.67631678 2.60402192 3.18582102 4.41318174 2.913587\n",
            " 2.49516054 4.16585462 3.68267164 1.70672429 2.55797842 4.11518065\n",
            " 0.1421614  3.73667044 2.26079293 0.67236363 1.43977894 1.41866524\n",
            " 0.84216117 0.5916517  3.11670544 1.76725063]\n"
          ]
        }
      ]
    },
    {
      "cell_type": "code",
      "source": [
        "plt.hist(x,100)\n",
        "plt.show()"
      ],
      "metadata": {
        "colab": {
          "base_uri": "https://localhost:8080/",
          "height": 265
        },
        "id": "uNKfAWiZ2u3A",
        "outputId": "e0a16d6d-eb81-4c8a-9fcb-d87dd49e0574"
      },
      "execution_count": null,
      "outputs": [
        {
          "output_type": "display_data",
          "data": {
            "text/plain": [
              "<Figure size 432x288 with 1 Axes>"
            ],
            "image/png": "[encoded data removed]"
          },
          "metadata": {
            "needs_background": "light"
          }
        }
      ]
    },
    {
      "cell_type": "markdown",
      "source": [
        "Normal Distribution and Histogram\n"
      ],
      "metadata": {
        "id": "tzoZ-Rlk5ZZm"
      }
    },
    {
      "cell_type": "code",
      "source": [
        "a=numpy.random.normal(5.0,0.9,100)\n",
        "# 5.0= mean\n",
        "#0.9 = std\n",
        "#100 = number of values in array\n",
        "print(a)"
      ],
      "metadata": {
        "colab": {
          "base_uri": "https://localhost:8080/"
        },
        "id": "X8IW0y9M5de5",
        "outputId": "25b42745-9541-4147-f731-b150aa870d39"
      },
      "execution_count": null,
      "outputs": [
        {
          "output_type": "stream",
          "name": "stdout",
          "text": [
            "[3.91697135 4.89622899 3.9421231  5.60562637 6.5836793  6.18411991\n",
            " 5.28634863 5.49248645 6.1180514  5.15434008 3.38606293 4.59041332\n",
            " 4.67884267 5.04305224 4.69383185 6.16675669 5.29088174 4.77748001\n",
            " 4.50192022 5.22703465 4.36329355 5.59305251 4.44652033 5.35955641\n",
            " 3.60423087 5.20412325 4.9290742  5.28525418 6.13166663 3.84812158\n",
            " 5.82287887 4.73158991 5.48254191 3.84145146 5.07425448 4.29504681\n",
            " 3.92337489 3.65195793 5.00382925 5.70257621 4.48960315 5.63728938\n",
            " 4.74713407 5.4631656  4.35907484 4.15049019 4.00501399 4.17146533\n",
            " 4.93674058 4.78557064 3.35503099 6.27106123 6.3027986  5.11290601\n",
            " 5.17455549 3.44527472 4.09541657 5.06054444 5.37080795 5.05444264\n",
            " 5.52073279 4.70339969 5.33341847 5.34201188 4.29662814 5.56188494\n",
            " 4.50585526 5.4326835  5.73276734 4.33160614 5.37375835 5.5548047\n",
            " 6.28587574 5.13268382 3.21660975 4.96770793 3.69993935 7.37030606\n",
            " 4.61292748 4.87800044 4.43315146 5.41528554 3.55646346 4.91264459\n",
            " 6.127827   4.4813582  4.85757779 5.35347092 3.69171003 5.29412224\n",
            " 4.73830661 4.03274924 4.51290248 6.36005408 5.35951818 6.74578176\n",
            " 3.1878016  4.98753076 4.27048014 3.14540347]\n"
          ]
        }
      ]
    },
    {
      "cell_type": "code",
      "source": [
        "plt.hist(a,100)\n",
        "plt.show()"
      ],
      "metadata": {
        "colab": {
          "base_uri": "https://localhost:8080/",
          "height": 265
        },
        "id": "E9SOvEoJ5sm1",
        "outputId": "3530fc19-77c6-4d5d-9252-7006d3c6733c"
      },
      "execution_count": null,
      "outputs": [
        {
          "output_type": "display_data",
          "data": {
            "text/plain": [
              "<Figure size 432x288 with 1 Axes>"
            ],
            "image/png": "[encoded data removed]"
          },
          "metadata": {
            "needs_background": "light"
          }
        }
      ]
    },
    {
      "cell_type": "markdown",
      "source": [
        "Scatter Plot"
      ],
      "metadata": {
        "id": "YPWYL5mQ61d9"
      }
    },
    {
      "cell_type": "code",
      "source": [
        "plt.scatter(a,x)\n",
        "plt.show()"
      ],
      "metadata": {
        "colab": {
          "base_uri": "https://localhost:8080/",
          "height": 265
        },
        "id": "p5zFz7VX6ydG",
        "outputId": "627d48d9-a05a-443f-d692-a0e58c0eb7a2"
      },
      "execution_count": null,
      "outputs": [
        {
          "output_type": "display_data",
          "data": {
            "text/plain": [
              "<Figure size 432x288 with 1 Axes>"
            ],
            "image/png": "[encoded data removed]"
          },
          "metadata": {
            "needs_background": "light"
          }
        }
      ]
    },
    {
      "cell_type": "markdown",
      "source": [
        "The first array will have the mean set to 5.0 with a standard deviation of 1.0.\n",
        "\n",
        "The second array will have the mean set to 10.0 with a standard deviation of 2.0:\n",
        "\n"
      ],
      "metadata": {
        "id": "3h14Vxrq7x2D"
      }
    },
    {
      "cell_type": "code",
      "source": [
        "b=numpy.random.normal(5.0,1.0,1000)\n",
        "c=numpy.random.normal(10.0,2.0,1000)\n",
        "print(b)\n",
        "print(c)"
      ],
      "metadata": {
        "id": "UvXf_4Tl7u7w"
      },
      "execution_count": null,
      "outputs": []
    },
    {
      "cell_type": "code",
      "source": [
        "plt.scatter(b,c)\n",
        "plt.show()"
      ],
      "metadata": {
        "colab": {
          "base_uri": "https://localhost:8080/",
          "height": 265
        },
        "id": "zcwN0ou38XwV",
        "outputId": "6de9f131-bd6d-4133-b0f5-973b942f01f6"
      },
      "execution_count": null,
      "outputs": [
        {
          "output_type": "display_data",
          "data": {
            "text/plain": [
              "<Figure size 432x288 with 1 Axes>"
            ],
            "image/png": "[encoded data removed]"
          },
          "metadata": {
            "needs_background": "light"
          }
        }
      ]
    },
    {
      "cell_type": "markdown",
      "source": [
        "Linear Regression"
      ],
      "metadata": {
        "id": "5OxlYfIK9bu0"
      }
    },
    {
      "cell_type": "code",
      "source": [
        "age = [5,7,8,7,2,17,2,9,4,11,12,9,6]\n",
        "speed = [99,86,87,88,111,86,103,87,94,78,77,85,86]\n",
        "plt.scatter(age,speed)\n",
        "plt.show()"
      ],
      "metadata": {
        "colab": {
          "base_uri": "https://localhost:8080/",
          "height": 265
        },
        "id": "plV48IGS9ZTV",
        "outputId": "019ca747-5d56-4e56-8295-4cee4eb3e429"
      },
      "execution_count": null,
      "outputs": [
        {
          "output_type": "display_data",
          "data": {
            "text/plain": [
              "<Figure size 432x288 with 1 Axes>"
            ],
            "image/png": "[encoded data removed]"
          },
          "metadata": {
            "needs_background": "light"
          }
        }
      ]
    },
    {
      "cell_type": "code",
      "source": [
        "from scipy import stats"
      ],
      "metadata": {
        "id": "ie8VSrEU92FF"
      },
      "execution_count": null,
      "outputs": []
    },
    {
      "cell_type": "code",
      "source": [
        "slope, intercept, r, p, std_err = stats.linregress(age, speed)"
      ],
      "metadata": {
        "id": "YyL4KmYH97J4"
      },
      "execution_count": null,
      "outputs": []
    },
    {
      "cell_type": "code",
      "source": [
        "def myfunc(age):\n",
        "  return slope * age + intercept\n",
        "mymodel = list(map(myfunc, age))\n",
        "plt.scatter(age, speed)\n",
        "plt.plot(age, mymodel)\n",
        "plt.show()\n",
        "print(r)"
      ],
      "metadata": {
        "colab": {
          "base_uri": "https://localhost:8080/",
          "height": 283
        },
        "id": "Mv0M7OQW-DmJ",
        "outputId": "11f24999-0e7b-4042-e699-d9f8cf5bd9e3"
      },
      "execution_count": null,
      "outputs": [
        {
          "output_type": "display_data",
          "data": {
            "text/plain": [
              "<Figure size 432x288 with 1 Axes>"
            ],
            "image/png": "[encoded data removed]"
          },
          "metadata": {
            "needs_background": "light"
          }
        },
        {
          "output_type": "stream",
          "name": "stdout",
          "text": [
            "-0.758591524376155\n"
          ]
        }
      ]
    },
    {
      "cell_type": "code",
      "source": [
        "new_speed=myfunc(10)\n",
        "print(new_speed)"
      ],
      "metadata": {
        "colab": {
          "base_uri": "https://localhost:8080/"
        },
        "id": "62CK4t2c-0It",
        "outputId": "ef53d3bb-b309-4e38-80d5-493d784fc23a"
      },
      "execution_count": null,
      "outputs": [
        {
          "output_type": "stream",
          "name": "stdout",
          "text": [
            "85.59308314937454\n"
          ]
        }
      ]
    },
    {
      "cell_type": "markdown",
      "source": [
        "Bad Fit"
      ],
      "metadata": {
        "id": "TeRE0zKb_rci"
      }
    },
    {
      "cell_type": "code",
      "source": [
        "e = [89,43,36,36,95,10,66,34,38,20,26,29,48,64,6,5,36,66,72,40]\n",
        "f = [21,46,3,35,67,95,53,72,58,10,26,34,90,33,38,20,56,2,47,15]\n",
        "plt.scatter(e,f)\n",
        "plt.show()"
      ],
      "metadata": {
        "colab": {
          "base_uri": "https://localhost:8080/",
          "height": 265
        },
        "id": "tSILup4w_s9u",
        "outputId": "e1e6292f-2640-46d2-9e68-88f9f596058e"
      },
      "execution_count": null,
      "outputs": [
        {
          "output_type": "display_data",
          "data": {
            "text/plain": [
              "<Figure size 432x288 with 1 Axes>"
            ],
            "image/png": "[encoded data removed]"
          },
          "metadata": {
            "needs_background": "light"
          }
        }
      ]
    },
    {
      "cell_type": "code",
      "source": [
        "slope, intercept, r, p, std_err = stats.linregress(e, f)"
      ],
      "metadata": {
        "id": "1T0s1ATfBH_w"
      },
      "execution_count": null,
      "outputs": []
    },
    {
      "cell_type": "code",
      "source": [
        "def myfunct(e):\n",
        "  return slope * e + intercept\n",
        "mymodels = list(map(myfunct, e))\n",
        "plt.scatter(e, f)\n",
        "plt.plot(e, mymodels)\n",
        "plt.show()\n",
        "print(r)"
      ],
      "metadata": {
        "colab": {
          "base_uri": "https://localhost:8080/",
          "height": 283
        },
        "id": "JHam3Zf7ADRF",
        "outputId": "12c17f2c-ea7a-433d-e00a-8b25ed84ac48"
      },
      "execution_count": null,
      "outputs": [
        {
          "output_type": "display_data",
          "data": {
            "text/plain": [
              "<Figure size 432x288 with 1 Axes>"
            ],
            "image/png": "[encoded data removed]"
          },
          "metadata": {
            "needs_background": "light"
          }
        },
        {
          "output_type": "stream",
          "name": "stdout",
          "text": [
            "0.01331814154297491\n"
          ]
        }
      ]
    },
    {
      "cell_type": "markdown",
      "source": [
        "###Polynomial Regression\n",
        "\n",
        "we have registered 18 cars as they were passing a certain tollbooth.\n",
        "\n",
        "We have registered the car's speed, and the time of day (hour) the passing occurred.\n",
        "ax= Time\n",
        "ay= speed\n",
        "\n"
      ],
      "metadata": {
        "id": "X0K5Al_RHdaE"
      }
    },
    {
      "cell_type": "code",
      "source": [
        "ax = [1,2,3,5,6,7,8,9,10,12,13,14,15,16,18,19,21,22]\n",
        "ay = [100,90,80,60,60,55,60,65,70,70,75,76,78,79,90,99,99,100]\n",
        "\n",
        "plt.scatter(ax, ay)\n",
        "plt.show()"
      ],
      "metadata": {
        "colab": {
          "base_uri": "https://localhost:8080/",
          "height": 265
        },
        "id": "GDzDjIowHwny",
        "outputId": "c5f61c29-1a29-4976-bbc8-565a3d9bbe35"
      },
      "execution_count": null,
      "outputs": [
        {
          "output_type": "display_data",
          "data": {
            "text/plain": [
              "<Figure size 432x288 with 1 Axes>"
            ],
            "image/png": "[encoded data removed]"
          },
          "metadata": {
            "needs_background": "light"
          }
        }
      ]
    },
    {
      "cell_type": "code",
      "source": [
        "mymodel = numpy.poly1d(numpy.polyfit(ax, ay, 3))\n",
        "#Where 3 = degree of fit\n",
        "\n"
      ],
      "metadata": {
        "id": "btq3M-E1H-fK"
      },
      "execution_count": null,
      "outputs": []
    },
    {
      "cell_type": "markdown",
      "source": [
        "#Then specify how the line will display, we start at position 1, and end at position 22:\n"
      ],
      "metadata": {
        "id": "kXCOvLuoIc-H"
      }
    },
    {
      "cell_type": "code",
      "source": [
        "myline = numpy.linspace(1, 22, 100)\n",
        "#1= start point\n",
        "#22= end point\n",
        "#100 = The number of samples needed to generate within the interval.\n",
        "\n",
        "plt.scatter(ax, ay) #original scatter plot\n",
        "plt.plot(myline, mymodel(myline)) #Draw the line of polynomial regression\n",
        "plt.show()"
      ],
      "metadata": {
        "colab": {
          "base_uri": "https://localhost:8080/",
          "height": 265
        },
        "id": "haxl0kGsIhag",
        "outputId": "9f3d7270-8604-4b83-be56-16423b6df6fe"
      },
      "execution_count": null,
      "outputs": [
        {
          "output_type": "display_data",
          "data": {
            "text/plain": [
              "<Figure size 432x288 with 1 Axes>"
            ],
            "image/png": "[encoded data removed]"
          },
          "metadata": {
            "needs_background": "light"
          }
        }
      ]
    },
    {
      "cell_type": "markdown",
      "source": [
        "##Determining the R-squared\n"
      ],
      "metadata": {
        "id": "az3OLS9WNuxx"
      }
    },
    {
      "cell_type": "code",
      "source": [
        "from sklearn.metrics import r2_score"
      ],
      "metadata": {
        "id": "BCBoVoIAOJxE"
      },
      "execution_count": null,
      "outputs": []
    },
    {
      "cell_type": "code",
      "source": [
        "mymodel = numpy.poly1d(numpy.polyfit(ax, ay, 3))\n",
        "\n",
        "print(r2_score(ay, mymodel(ax)))"
      ],
      "metadata": {
        "colab": {
          "base_uri": "https://localhost:8080/"
        },
        "id": "_jPFG6DeN6Cd",
        "outputId": "1888139c-d3ba-4959-8803-b1e47d29ff97"
      },
      "execution_count": null,
      "outputs": [
        {
          "output_type": "stream",
          "name": "stdout",
          "text": [
            "0.9432150416451025\n"
          ]
        }
      ]
    },
    {
      "cell_type": "markdown",
      "source": [
        "An r-square of 0.94 shows that there is a very good relationship between x and y"
      ],
      "metadata": {
        "id": "4c1uJ8yTONzX"
      }
    },
    {
      "cell_type": "markdown",
      "source": [
        "#predicting future values \n",
        "Example; Predict the speed of a car passing at 17 P.M:"
      ],
      "metadata": {
        "id": "gDrdvx52OhlH"
      }
    },
    {
      "cell_type": "code",
      "source": [
        "mymodel = numpy.poly1d(numpy.polyfit(ax, ay, 3))\n",
        "speed=mymodel(17)\n",
        "print(speed)"
      ],
      "metadata": {
        "colab": {
          "base_uri": "https://localhost:8080/"
        },
        "id": "_CW6WCPJOY5C",
        "outputId": "2077be93-51e5-4506-e48c-e3cb68c039a9"
      },
      "execution_count": null,
      "outputs": [
        {
          "output_type": "stream",
          "name": "stdout",
          "text": [
            "88.87331269697991\n"
          ]
        }
      ]
    },
    {
      "cell_type": "markdown",
      "source": [
        "##Bad Fit for Polynomial Regression\n",
        "Given\n",
        "ad = [89,43,36,36,95,10,66,34,38,20,26,29,48,64,6,5,36,66,72,40]\n",
        "ab = [21,46,3,35,67,95,53,72,58,10,26,34,90,33,38,20,56,2,47,15]\n",
        "\n",
        "Find the r-square of the polynomial regression between ad and ab"
      ],
      "metadata": {
        "id": "t-Ub_RI9Pnqk"
      }
    },
    {
      "cell_type": "code",
      "source": [
        "ad = [89,43,36,36,95,10,66,34,38,20,26,29,48,64,6,5,36,66,72,40] \n",
        "ab = [21,46,3,35,67,95,53,72,58,10,26,34,90,33,38,20,56,2,47,15]\n",
        "\n",
        "plt.scatter(ad, ab)\n",
        "plt.show()\n"
      ],
      "metadata": {
        "colab": {
          "base_uri": "https://localhost:8080/",
          "height": 265
        },
        "id": "X57h_FYAP-Le",
        "outputId": "3d2737c0-d296-4be6-a6e6-37272b641f42"
      },
      "execution_count": null,
      "outputs": [
        {
          "output_type": "display_data",
          "data": {
            "text/plain": [
              "<Figure size 432x288 with 1 Axes>"
            ],
            "image/png": "[encoded data removed]"
          },
          "metadata": {
            "needs_background": "light"
          }
        }
      ]
    },
    {
      "cell_type": "code",
      "source": [
        "mymodel = numpy.poly1d(numpy.polyfit(ad, ab, 3))\n",
        "\n",
        "myline = numpy.linspace(2, 95, 100)\n",
        "\n",
        "plt.scatter(ad, ab) #original scatter plot\n",
        "plt.plot(myline, mymodel(myline)) #Draw the line of polynomial regression\n",
        "plt.show()"
      ],
      "metadata": {
        "colab": {
          "base_uri": "https://localhost:8080/",
          "height": 265
        },
        "id": "GaFN_JROQP6W",
        "outputId": "6d2729eb-4b43-4a1a-ec45-7483643a4c8b"
      },
      "execution_count": null,
      "outputs": [
        {
          "output_type": "display_data",
          "data": {
            "text/plain": [
              "<Figure size 432x288 with 1 Axes>"
            ],
            "image/png": "[encoded data removed]"
          },
          "metadata": {
            "needs_background": "light"
          }
        }
      ]
    },
    {
      "cell_type": "code",
      "source": [
        "print(r2_score(ab, mymodel(ad)))"
      ],
      "metadata": {
        "colab": {
          "base_uri": "https://localhost:8080/"
        },
        "id": "yaDbBrGuRBxI",
        "outputId": "9c8f4a07-1a91-40c3-d5ee-f2afa94600ad"
      },
      "execution_count": null,
      "outputs": [
        {
          "output_type": "stream",
          "name": "stdout",
          "text": [
            "0.009952707566680652\n"
          ]
        }
      ]
    },
    {
      "cell_type": "markdown",
      "source": [
        "An r-square of 0.0099 shows a very bad relationship between ad and ab variables."
      ],
      "metadata": {
        "id": "b4PQX8z6RNr6"
      }
    },
    {
      "cell_type": "markdown",
      "source": [
        "####Multiple Regression\n",
        "\n",
        "In Multiple regression, we try to predict the value of a dependent variable using two or more independent variables.\n",
        "\n",
        "In the example below, we will try to predict the amount of Co2 produced by cars based on weight, model etc."
      ],
      "metadata": {
        "id": "XnLhJ2pKRqCx"
      }
    },
    {
      "cell_type": "code",
      "source": [
        "#import pandas and connect to google drive to import datafile\n",
        "import pandas as pd\n",
        "import warnings\n",
        "warnings.filterwarnings('ignore')\n",
        "from google.colab import drive\n",
        "drive.mount('/content/gdrive')"
      ],
      "metadata": {
        "colab": {
          "base_uri": "https://localhost:8080/"
        },
        "id": "UbsERT6rTcs3",
        "outputId": "18cf3141-5267-4bd0-a091-37c09a1881e8"
      },
      "execution_count": null,
      "outputs": [
        {
          "output_type": "stream",
          "name": "stdout",
          "text": [
            "Mounted at /content/gdrive\n"
          ]
        }
      ]
    },
    {
      "cell_type": "code",
      "source": [
        "#importing the datafile in csv\n",
        "df_cars=pd.read_csv(\"/content/gdrive/My Drive/Colab Notebooks/cars.csv\")\n",
        "df_cars"
      ],
      "metadata": {
        "colab": {
          "base_uri": "https://localhost:8080/",
          "height": 1000
        },
        "id": "rAe_BG6kRtgY",
        "outputId": "1008e4af-35dd-4849-954a-8e54c6ed9b50"
      },
      "execution_count": null,
      "outputs": [
        {
          "output_type": "execute_result",
          "data": {
            "text/plain": [
              "           Car       Model  Volume  Weight  CO2\n",
              "0       Toyoty        Aygo    1000     790   99\n",
              "1   Mitsubishi  Space Star    1200    1160   95\n",
              "2        Skoda      Citigo    1000     929   95\n",
              "3         Fiat         500     900     865   90\n",
              "4         Mini      Cooper    1500    1140  105\n",
              "5           VW         Up!    1000     929  105\n",
              "6        Skoda       Fabia    1400    1109   90\n",
              "7     Mercedes     A-Class    1500    1365   92\n",
              "8         Ford      Fiesta    1500    1112   98\n",
              "9         Audi          A1    1600    1150   99\n",
              "10     Hyundai         I20    1100     980   99\n",
              "11      Suzuki       Swift    1300     990  101\n",
              "12        Ford      Fiesta    1000    1112   99\n",
              "13       Honda       Civic    1600    1252   94\n",
              "14      Hundai         I30    1600    1326   97\n",
              "15        Opel       Astra    1600    1330   97\n",
              "16         BMW           1    1600    1365   99\n",
              "17       Mazda           3    2200    1280  104\n",
              "18       Skoda       Rapid    1600    1119  104\n",
              "19        Ford       Focus    2000    1328  105\n",
              "20        Ford      Mondeo    1600    1584   94\n",
              "21        Opel    Insignia    2000    1428   99\n",
              "22    Mercedes     C-Class    2100    1365   99\n",
              "23       Skoda     Octavia    1600    1415   99\n",
              "24       Volvo         S60    2000    1415   99\n",
              "25    Mercedes         CLA    1500    1465  102\n",
              "26        Audi          A4    2000    1490  104\n",
              "27        Audi          A6    2000    1725  114\n",
              "28       Volvo         V70    1600    1523  109\n",
              "29         BMW           5    2000    1705  114\n",
              "30    Mercedes     E-Class    2100    1605  115\n",
              "31       Volvo        XC70    2000    1746  117\n",
              "32        Ford       B-Max    1600    1235  104\n",
              "33         BMW         216    1600    1390  108\n",
              "34        Opel      Zafira    1600    1405  109\n",
              "35    Mercedes         SLK    2500    1395  120"
            ],
            "text/html": [
              "\n",
              "  <div id=\"df-a3f93155-ccc6-4fd6-9386-7f2fcde6c9c2\">\n",
              "    <div class=\"colab-df-container\">\n",
              "      <div>\n",
              "<style scoped>\n",
              "    .dataframe tbody tr th:only-of-type {\n",
              "        vertical-align: middle;\n",
              "    }\n",
              "\n",
              "    .dataframe tbody tr th {\n",
              "        vertical-align: top;\n",
              "    }\n",
              "\n",
              "    .dataframe thead th {\n",
              "        text-align: right;\n",
              "    }\n",
              "</style>\n",
              "<table border=\"1\" class=\"dataframe\">\n",
              "  <thead>\n",
              "    <tr style=\"text-align: right;\">\n",
              "      <th></th>\n",
              "      <th>Car</th>\n",
              "      <th>Model</th>\n",
              "      <th>Volume</th>\n",
              "      <th>Weight</th>\n",
              "      <th>CO2</th>\n",
              "    </tr>\n",
              "  </thead>\n",
              "  <tbody>\n",
              "    <tr>\n",
              "      <th>0</th>\n",
              "      <td>Toyoty</td>\n",
              "      <td>Aygo</td>\n",
              "      <td>1000</td>\n",
              "      <td>790</td>\n",
              "      <td>99</td>\n",
              "    </tr>\n",
              "    <tr>\n",
              "      <th>1</th>\n",
              "      <td>Mitsubishi</td>\n",
              "      <td>Space Star</td>\n",
              "      <td>1200</td>\n",
              "      <td>1160</td>\n",
              "      <td>95</td>\n",
              "    </tr>\n",
              "    <tr>\n",
              "      <th>2</th>\n",
              "      <td>Skoda</td>\n",
              "      <td>Citigo</td>\n",
              "      <td>1000</td>\n",
              "      <td>929</td>\n",
              "      <td>95</td>\n",
              "    </tr>\n",
              "    <tr>\n",
              "      <th>3</th>\n",
              "      <td>Fiat</td>\n",
              "      <td>500</td>\n",
              "      <td>900</td>\n",
              "      <td>865</td>\n",
              "      <td>90</td>\n",
              "    </tr>\n",
              "    <tr>\n",
              "      <th>4</th>\n",
              "      <td>Mini</td>\n",
              "      <td>Cooper</td>\n",
              "      <td>1500</td>\n",
              "      <td>1140</td>\n",
              "      <td>105</td>\n",
              "    </tr>\n",
              "    <tr>\n",
              "      <th>5</th>\n",
              "      <td>VW</td>\n",
              "      <td>Up!</td>\n",
              "      <td>1000</td>\n",
              "      <td>929</td>\n",
              "      <td>105</td>\n",
              "    </tr>\n",
              "    <tr>\n",
              "      <th>6</th>\n",
              "      <td>Skoda</td>\n",
              "      <td>Fabia</td>\n",
              "      <td>1400</td>\n",
              "      <td>1109</td>\n",
              "      <td>90</td>\n",
              "    </tr>\n",
              "    <tr>\n",
              "      <th>7</th>\n",
              "      <td>Mercedes</td>\n",
              "      <td>A-Class</td>\n",
              "      <td>1500</td>\n",
              "      <td>1365</td>\n",
              "      <td>92</td>\n",
              "    </tr>\n",
              "    <tr>\n",
              "      <th>8</th>\n",
              "      <td>Ford</td>\n",
              "      <td>Fiesta</td>\n",
              "      <td>1500</td>\n",
              "      <td>1112</td>\n",
              "      <td>98</td>\n",
              "    </tr>\n",
              "    <tr>\n",
              "      <th>9</th>\n",
              "      <td>Audi</td>\n",
              "      <td>A1</td>\n",
              "      <td>1600</td>\n",
              "      <td>1150</td>\n",
              "      <td>99</td>\n",
              "    </tr>\n",
              "    <tr>\n",
              "      <th>10</th>\n",
              "      <td>Hyundai</td>\n",
              "      <td>I20</td>\n",
              "      <td>1100</td>\n",
              "      <td>980</td>\n",
              "      <td>99</td>\n",
              "    </tr>\n",
              "    <tr>\n",
              "      <th>11</th>\n",
              "      <td>Suzuki</td>\n",
              "      <td>Swift</td>\n",
              "      <td>1300</td>\n",
              "      <td>990</td>\n",
              "      <td>101</td>\n",
              "    </tr>\n",
              "    <tr>\n",
              "      <th>12</th>\n",
              "      <td>Ford</td>\n",
              "      <td>Fiesta</td>\n",
              "      <td>1000</td>\n",
              "      <td>1112</td>\n",
              "      <td>99</td>\n",
              "    </tr>\n",
              "    <tr>\n",
              "      <th>13</th>\n",
              "      <td>Honda</td>\n",
              "      <td>Civic</td>\n",
              "      <td>1600</td>\n",
              "      <td>1252</td>\n",
              "      <td>94</td>\n",
              "    </tr>\n",
              "    <tr>\n",
              "      <th>14</th>\n",
              "      <td>Hundai</td>\n",
              "      <td>I30</td>\n",
              "      <td>1600</td>\n",
              "      <td>1326</td>\n",
              "      <td>97</td>\n",
              "    </tr>\n",
              "    <tr>\n",
              "      <th>15</th>\n",
              "      <td>Opel</td>\n",
              "      <td>Astra</td>\n",
              "      <td>1600</td>\n",
              "      <td>1330</td>\n",
              "      <td>97</td>\n",
              "    </tr>\n",
              "    <tr>\n",
              "      <th>16</th>\n",
              "      <td>BMW</td>\n",
              "      <td>1</td>\n",
              "      <td>1600</td>\n",
              "      <td>1365</td>\n",
              "      <td>99</td>\n",
              "    </tr>\n",
              "    <tr>\n",
              "      <th>17</th>\n",
              "      <td>Mazda</td>\n",
              "      <td>3</td>\n",
              "      <td>2200</td>\n",
              "      <td>1280</td>\n",
              "      <td>104</td>\n",
              "    </tr>\n",
              "    <tr>\n",
              "      <th>18</th>\n",
              "      <td>Skoda</td>\n",
              "      <td>Rapid</td>\n",
              "      <td>1600</td>\n",
              "      <td>1119</td>\n",
              "      <td>104</td>\n",
              "    </tr>\n",
              "    <tr>\n",
              "      <th>19</th>\n",
              "      <td>Ford</td>\n",
              "      <td>Focus</td>\n",
              "      <td>2000</td>\n",
              "      <td>1328</td>\n",
              "      <td>105</td>\n",
              "    </tr>\n",
              "    <tr>\n",
              "      <th>20</th>\n",
              "      <td>Ford</td>\n",
              "      <td>Mondeo</td>\n",
              "      <td>1600</td>\n",
              "      <td>1584</td>\n",
              "      <td>94</td>\n",
              "    </tr>\n",
              "    <tr>\n",
              "      <th>21</th>\n",
              "      <td>Opel</td>\n",
              "      <td>Insignia</td>\n",
              "      <td>2000</td>\n",
              "      <td>1428</td>\n",
              "      <td>99</td>\n",
              "    </tr>\n",
              "    <tr>\n",
              "      <th>22</th>\n",
              "      <td>Mercedes</td>\n",
              "      <td>C-Class</td>\n",
              "      <td>2100</td>\n",
              "      <td>1365</td>\n",
              "      <td>99</td>\n",
              "    </tr>\n",
              "    <tr>\n",
              "      <th>23</th>\n",
              "      <td>Skoda</td>\n",
              "      <td>Octavia</td>\n",
              "      <td>1600</td>\n",
              "      <td>1415</td>\n",
              "      <td>99</td>\n",
              "    </tr>\n",
              "    <tr>\n",
              "      <th>24</th>\n",
              "      <td>Volvo</td>\n",
              "      <td>S60</td>\n",
              "      <td>2000</td>\n",
              "      <td>1415</td>\n",
              "      <td>99</td>\n",
              "    </tr>\n",
              "    <tr>\n",
              "      <th>25</th>\n",
              "      <td>Mercedes</td>\n",
              "      <td>CLA</td>\n",
              "      <td>1500</td>\n",
              "      <td>1465</td>\n",
              "      <td>102</td>\n",
              "    </tr>\n",
              "    <tr>\n",
              "      <th>26</th>\n",
              "      <td>Audi</td>\n",
              "      <td>A4</td>\n",
              "      <td>2000</td>\n",
              "      <td>1490</td>\n",
              "      <td>104</td>\n",
              "    </tr>\n",
              "    <tr>\n",
              "      <th>27</th>\n",
              "      <td>Audi</td>\n",
              "      <td>A6</td>\n",
              "      <td>2000</td>\n",
              "      <td>1725</td>\n",
              "      <td>114</td>\n",
              "    </tr>\n",
              "    <tr>\n",
              "      <th>28</th>\n",
              "      <td>Volvo</td>\n",
              "      <td>V70</td>\n",
              "      <td>1600</td>\n",
              "      <td>1523</td>\n",
              "      <td>109</td>\n",
              "    </tr>\n",
              "    <tr>\n",
              "      <th>29</th>\n",
              "      <td>BMW</td>\n",
              "      <td>5</td>\n",
              "      <td>2000</td>\n",
              "      <td>1705</td>\n",
              "      <td>114</td>\n",
              "    </tr>\n",
              "    <tr>\n",
              "      <th>30</th>\n",
              "      <td>Mercedes</td>\n",
              "      <td>E-Class</td>\n",
              "      <td>2100</td>\n",
              "      <td>1605</td>\n",
              "      <td>115</td>\n",
              "    </tr>\n",
              "    <tr>\n",
              "      <th>31</th>\n",
              "      <td>Volvo</td>\n",
              "      <td>XC70</td>\n",
              "      <td>2000</td>\n",
              "      <td>1746</td>\n",
              "      <td>117</td>\n",
              "    </tr>\n",
              "    <tr>\n",
              "      <th>32</th>\n",
              "      <td>Ford</td>\n",
              "      <td>B-Max</td>\n",
              "      <td>1600</td>\n",
              "      <td>1235</td>\n",
              "      <td>104</td>\n",
              "    </tr>\n",
              "    <tr>\n",
              "      <th>33</th>\n",
              "      <td>BMW</td>\n",
              "      <td>216</td>\n",
              "      <td>1600</td>\n",
              "      <td>1390</td>\n",
              "      <td>108</td>\n",
              "    </tr>\n",
              "    <tr>\n",
              "      <th>34</th>\n",
              "      <td>Opel</td>\n",
              "      <td>Zafira</td>\n",
              "      <td>1600</td>\n",
              "      <td>1405</td>\n",
              "      <td>109</td>\n",
              "    </tr>\n",
              "    <tr>\n",
              "      <th>35</th>\n",
              "      <td>Mercedes</td>\n",
              "      <td>SLK</td>\n",
              "      <td>2500</td>\n",
              "      <td>1395</td>\n",
              "      <td>120</td>\n",
              "    </tr>\n",
              "  </tbody>\n",
              "</table>\n",
              "</div>\n",
              "      <button class=\"colab-df-convert\" onclick=\"convertToInteractive('df-a3f93155-ccc6-4fd6-9386-7f2fcde6c9c2')\"\n",
              "              title=\"Convert this dataframe to an interactive table.\"\n",
              "              style=\"display:none;\">\n",
              "        \n",
              "  <svg xmlns=\"http://www.w3.org/2000/svg\" height=\"24px\"viewBox=\"0 0 24 24\"\n",
              "       width=\"24px\">\n",
              "    <path d=\"M0 0h24v24H0V0z\" fill=\"none\"/>\n",
              "    <path d=\"M18.56 5.44l.94 2.06.94-2.06 2.06-.94-2.06-.94-.94-2.06-.94 2.06-2.06.94zm-11 1L8.5 8.5l.94-2.06 2.06-.94-2.06-.94L8.5 2.5l-.94 2.06-2.06.94zm10 10l.94 2.06.94-2.06 2.06-.94-2.06-.94-.94-2.06-.94 2.06-2.06.94z\"/><path d=\"M17.41 7.96l-1.37-1.37c-.4-.4-.92-.59-1.43-.59-.52 0-1.04.2-1.43.59L10.3 9.45l-7.72 7.72c-.78.78-.78 2.05 0 2.83L4 21.41c.39.39.9.59 1.41.59.51 0 1.02-.2 1.41-.59l7.78-7.78 2.81-2.81c.8-.78.8-2.07 0-2.86zM5.41 20L4 18.59l7.72-7.72 1.47 1.35L5.41 20z\"/>\n",
              "  </svg>\n",
              "      </button>\n",
              "      \n",
              "  <style>\n",
              "    .colab-df-container {\n",
              "      display:flex;\n",
              "      flex-wrap:wrap;\n",
              "      gap: 12px;\n",
              "    }\n",
              "\n",
              "    .colab-df-convert {\n",
              "      background-color: #E8F0FE;\n",
              "      border: none;\n",
              "      border-radius: 50%;\n",
              "      cursor: pointer;\n",
              "      display: none;\n",
              "      fill: #1967D2;\n",
              "      height: 32px;\n",
              "      padding: 0 0 0 0;\n",
              "      width: 32px;\n",
              "    }\n",
              "\n",
              "    .colab-df-convert:hover {\n",
              "      background-color: #E2EBFA;\n",
              "      box-shadow: 0px 1px 2px rgba(60, 64, 67, 0.3), 0px 1px 3px 1px rgba(60, 64, 67, 0.15);\n",
              "      fill: #174EA6;\n",
              "    }\n",
              "\n",
              "    [theme=dark] .colab-df-convert {\n",
              "      background-color: #3B4455;\n",
              "      fill: #D2E3FC;\n",
              "    }\n",
              "\n",
              "    [theme=dark] .colab-df-convert:hover {\n",
              "      background-color: #434B5C;\n",
              "      box-shadow: 0px 1px 3px 1px rgba(0, 0, 0, 0.15);\n",
              "      filter: drop-shadow(0px 1px 2px rgba(0, 0, 0, 0.3));\n",
              "      fill: #FFFFFF;\n",
              "    }\n",
              "  </style>\n",
              "\n",
              "      <script>\n",
              "        const buttonEl =\n",
              "          document.querySelector('#df-a3f93155-ccc6-4fd6-9386-7f2fcde6c9c2 button.colab-df-convert');\n",
              "        buttonEl.style.display =\n",
              "          google.colab.kernel.accessAllowed ? 'block' : 'none';\n",
              "\n",
              "        async function convertToInteractive(key) {\n",
              "          const element = document.querySelector('#df-a3f93155-ccc6-4fd6-9386-7f2fcde6c9c2');\n",
              "          const dataTable =\n",
              "            await google.colab.kernel.invokeFunction('convertToInteractive',\n",
              "                                                     [key], {});\n",
              "          if (!dataTable) return;\n",
              "\n",
              "          const docLinkHtml = 'Like what you see? Visit the ' +\n",
              "            '<a target=\"_blank\" href=https://colab.research.google.com/notebooks/data_table.ipynb>data table notebook</a>'\n",
              "            + ' to learn more about interactive tables.';\n",
              "          element.innerHTML = '';\n",
              "          dataTable['output_type'] = 'display_data';\n",
              "          await google.colab.output.renderOutput(dataTable, element);\n",
              "          const docLink = document.createElement('div');\n",
              "          docLink.innerHTML = docLinkHtml;\n",
              "          element.appendChild(docLink);\n",
              "        }\n",
              "      </script>\n",
              "    </div>\n",
              "  </div>\n",
              "  "
            ]
          },
          "metadata": {},
          "execution_count": 30
        }
      ]
    },
    {
      "cell_type": "code",
      "source": [
        "#indicating the independent and target variables\n",
        "X = df_cars[['Weight', 'Volume']]\n",
        "y = df_cars['CO2']"
      ],
      "metadata": {
        "id": "cZ-35ehwUrOP"
      },
      "execution_count": null,
      "outputs": []
    },
    {
      "cell_type": "code",
      "source": [
        "from sklearn import linear_model"
      ],
      "metadata": {
        "id": "rbakokMPVN4G"
      },
      "execution_count": null,
      "outputs": []
    },
    {
      "cell_type": "code",
      "source": [
        "regr = linear_model.LinearRegression()\n",
        "regr.fit(X, y)"
      ],
      "metadata": {
        "colab": {
          "base_uri": "https://localhost:8080/"
        },
        "id": "NK0QhHRlVT18",
        "outputId": "16913f04-0f66-4216-b687-43bac266ff5f"
      },
      "execution_count": null,
      "outputs": [
        {
          "output_type": "execute_result",
          "data": {
            "text/plain": [
              "LinearRegression()"
            ]
          },
          "metadata": {},
          "execution_count": 37
        }
      ]
    },
    {
      "cell_type": "markdown",
      "source": [
        "We have built a model ready to predict the Co2 emission of a car based on the Weight and Volume.\n",
        "Let's use this model to predict the CO2 emission of a car where the weight is 2300kg, and the volume is 1300cm3"
      ],
      "metadata": {
        "id": "yJMOYhrxVl4S"
      }
    },
    {
      "cell_type": "code",
      "source": [
        "predicted_co2= regr.predict([[2300, 1300]])\n",
        "print(predicted_co2)"
      ],
      "metadata": {
        "colab": {
          "base_uri": "https://localhost:8080/"
        },
        "id": "pwPx8rzGV3d4",
        "outputId": "af200054-a27f-450e-a776-bc82101d85e8"
      },
      "execution_count": null,
      "outputs": [
        {
          "output_type": "stream",
          "name": "stdout",
          "text": [
            "[107.2087328]\n"
          ]
        }
      ]
    },
    {
      "cell_type": "markdown",
      "source": [
        "We predicted that for a car with a weight of 2,300 and an engine volume of 1,300 the co2 emission will be 107.2g"
      ],
      "metadata": {
        "id": "uz6viz0pX6mA"
      }
    },
    {
      "cell_type": "markdown",
      "source": [
        "Using Co-efficients\n",
        "We can also use the coefficients of the Weight and the Volume to predict the co2 emission of the car."
      ],
      "metadata": {
        "id": "YQy3d4GjYP5a"
      }
    },
    {
      "cell_type": "code",
      "source": [
        "X = df_cars[['Weight', 'Volume']]\n",
        "y = df_cars['CO2']\n",
        "\n",
        "regr = linear_model.LinearRegression()\n",
        "regr.fit(X, y)\n",
        "\n",
        "print(regr.coef_)"
      ],
      "metadata": {
        "colab": {
          "base_uri": "https://localhost:8080/"
        },
        "id": "hE-vU0Y-XeFw",
        "outputId": "b86b62f5-6a2b-46d5-a3da-a4baa8334466"
      },
      "execution_count": null,
      "outputs": [
        {
          "output_type": "stream",
          "name": "stdout",
          "text": [
            "[0.00755095 0.00780526]\n"
          ]
        }
      ]
    },
    {
      "cell_type": "markdown",
      "source": [
        "if the weight increase by 1kg, the CO2 emission increases by 0.00755095g.\n",
        "\n",
        "And if the engine size (Volume) increases by 1 cm3, the CO2 emission increases by 0.00780526 g.\n",
        "\n",
        "Let us see if this is correct by predicting the co2 emission for a car of 4,300kg weight and volume of 1,300cm3\n"
      ],
      "metadata": {
        "id": "E3rgTtIfY0pl"
      }
    },
    {
      "cell_type": "code",
      "source": [
        "regr = linear_model.LinearRegression()\n",
        "regr.fit(X, y)\n",
        "predicted_co2= regr.predict([[4300, 1300]])\n",
        "print(predicted_co2)"
      ],
      "metadata": {
        "colab": {
          "base_uri": "https://localhost:8080/"
        },
        "id": "t6GLLhuias4T",
        "outputId": "186d28ca-0254-4be4-e882-627009ca8b8b"
      },
      "execution_count": null,
      "outputs": [
        {
          "output_type": "stream",
          "name": "stdout",
          "text": [
            "[122.31062734]\n"
          ]
        }
      ]
    },
    {
      "cell_type": "markdown",
      "source": [
        "We have predicted that if we increase the car weight by 2,000Kg, co2 will increase to 122g\n",
        "Let us use the coefficient to check if this is correct.\n",
        "\n",
        "Predicted_co2 = 107.2+ (0.0075 * 2000)=122.2g\n",
        "\n",
        "Which means the coeff is correct.\n"
      ],
      "metadata": {
        "id": "ji9MtgJXa70g"
      }
    },
    {
      "cell_type": "markdown",
      "source": [
        "####Standardization\n",
        "\n",
        "We standardize values in a dataframe in order to bring them to comparable form.\n",
        "\n",
        "In the example below, we have the data we used for the car co2 predicition with the volume in litres instead of cm3. To be able to perform multiple regression on this values we have to standardize the values of weight and volume."
      ],
      "metadata": {
        "id": "CO9_0OghRpTd"
      }
    },
    {
      "cell_type": "code",
      "source": [
        "#importing the dataset.\n",
        "df_cars2=pd.read_csv(\"/content/gdrive/My Drive/Colab Notebooks/cars2.csv\")\n",
        "df_cars2\n"
      ],
      "metadata": {
        "colab": {
          "base_uri": "https://localhost:8080/",
          "height": 1000
        },
        "id": "NGDm8dL2UH3n",
        "outputId": "24f2dd9a-6c7a-4238-92a4-0249e575bd83"
      },
      "execution_count": null,
      "outputs": [
        {
          "output_type": "execute_result",
          "data": {
            "text/plain": [
              "           Car       Model  Volume  Weight  CO2\n",
              "0       Toyoty        Aygo     1.0     790   99\n",
              "1   Mitsubishi  Space Star     1.2    1160   95\n",
              "2        Skoda      Citigo     1.0     929   95\n",
              "3         Fiat         500     0.9     865   90\n",
              "4         Mini      Cooper     1.5    1140  105\n",
              "5           VW         Up!     1.0     929  105\n",
              "6        Skoda       Fabia     1.4    1109   90\n",
              "7     Mercedes     A-Class     1.5    1365   92\n",
              "8         Ford      Fiesta     1.5    1112   98\n",
              "9         Audi          A1     1.6    1150   99\n",
              "10     Hyundai         I20     1.1     980   99\n",
              "11      Suzuki       Swift     1.3     990  101\n",
              "12        Ford      Fiesta     1.0    1112   99\n",
              "13       Honda       Civic     1.6    1252   94\n",
              "14      Hundai         I30     1.6    1326   97\n",
              "15        Opel       Astra     1.6    1330   97\n",
              "16         BMW           1     1.6    1365   99\n",
              "17       Mazda           3     2.2    1280  104\n",
              "18       Skoda       Rapid     1.6    1119  104\n",
              "19        Ford       Focus     2.0    1328  105\n",
              "20        Ford      Mondeo     1.6    1584   94\n",
              "21        Opel    Insignia     2.0    1428   99\n",
              "22    Mercedes     C-Class     2.1    1365   99\n",
              "23       Skoda     Octavia     1.6    1415   99\n",
              "24       Volvo         S60     2.0    1415   99\n",
              "25    Mercedes         CLA     1.5    1465  102\n",
              "26        Audi          A4     2.0    1490  104\n",
              "27        Audi          A6     2.0    1725  114\n",
              "28       Volvo         V70     1.6    1523  109\n",
              "29         BMW           5     2.0    1705  114\n",
              "30    Mercedes     E-Class     2.1    1605  115\n",
              "31       Volvo        XC70     2.0    1746  117\n",
              "32        Ford       B-Max     1.6    1235  104\n",
              "33         BMW         216     1.6    1390  108\n",
              "34        Opel      Zafira     1.6    1405  109\n",
              "35    Mercedes         SLK     2.5    1395  120"
            ],
            "text/html": [
              "\n",
              "  <div id=\"df-d8207ab3-6e7a-4418-bc80-b24cfaa0bbbc\">\n",
              "    <div class=\"colab-df-container\">\n",
              "      <div>\n",
              "<style scoped>\n",
              "    .dataframe tbody tr th:only-of-type {\n",
              "        vertical-align: middle;\n",
              "    }\n",
              "\n",
              "    .dataframe tbody tr th {\n",
              "        vertical-align: top;\n",
              "    }\n",
              "\n",
              "    .dataframe thead th {\n",
              "        text-align: right;\n",
              "    }\n",
              "</style>\n",
              "<table border=\"1\" class=\"dataframe\">\n",
              "  <thead>\n",
              "    <tr style=\"text-align: right;\">\n",
              "      <th></th>\n",
              "      <th>Car</th>\n",
              "      <th>Model</th>\n",
              "      <th>Volume</th>\n",
              "      <th>Weight</th>\n",
              "      <th>CO2</th>\n",
              "    </tr>\n",
              "  </thead>\n",
              "  <tbody>\n",
              "    <tr>\n",
              "      <th>0</th>\n",
              "      <td>Toyoty</td>\n",
              "      <td>Aygo</td>\n",
              "      <td>1.0</td>\n",
              "      <td>790</td>\n",
              "      <td>99</td>\n",
              "    </tr>\n",
              "    <tr>\n",
              "      <th>1</th>\n",
              "      <td>Mitsubishi</td>\n",
              "      <td>Space Star</td>\n",
              "      <td>1.2</td>\n",
              "      <td>1160</td>\n",
              "      <td>95</td>\n",
              "    </tr>\n",
              "    <tr>\n",
              "      <th>2</th>\n",
              "      <td>Skoda</td>\n",
              "      <td>Citigo</td>\n",
              "      <td>1.0</td>\n",
              "      <td>929</td>\n",
              "      <td>95</td>\n",
              "    </tr>\n",
              "    <tr>\n",
              "      <th>3</th>\n",
              "      <td>Fiat</td>\n",
              "      <td>500</td>\n",
              "      <td>0.9</td>\n",
              "      <td>865</td>\n",
              "      <td>90</td>\n",
              "    </tr>\n",
              "    <tr>\n",
              "      <th>4</th>\n",
              "      <td>Mini</td>\n",
              "      <td>Cooper</td>\n",
              "      <td>1.5</td>\n",
              "      <td>1140</td>\n",
              "      <td>105</td>\n",
              "    </tr>\n",
              "    <tr>\n",
              "      <th>5</th>\n",
              "      <td>VW</td>\n",
              "      <td>Up!</td>\n",
              "      <td>1.0</td>\n",
              "      <td>929</td>\n",
              "      <td>105</td>\n",
              "    </tr>\n",
              "    <tr>\n",
              "      <th>6</th>\n",
              "      <td>Skoda</td>\n",
              "      <td>Fabia</td>\n",
              "      <td>1.4</td>\n",
              "      <td>1109</td>\n",
              "      <td>90</td>\n",
              "    </tr>\n",
              "    <tr>\n",
              "      <th>7</th>\n",
              "      <td>Mercedes</td>\n",
              "      <td>A-Class</td>\n",
              "      <td>1.5</td>\n",
              "      <td>1365</td>\n",
              "      <td>92</td>\n",
              "    </tr>\n",
              "    <tr>\n",
              "      <th>8</th>\n",
              "      <td>Ford</td>\n",
              "      <td>Fiesta</td>\n",
              "      <td>1.5</td>\n",
              "      <td>1112</td>\n",
              "      <td>98</td>\n",
              "    </tr>\n",
              "    <tr>\n",
              "      <th>9</th>\n",
              "      <td>Audi</td>\n",
              "      <td>A1</td>\n",
              "      <td>1.6</td>\n",
              "      <td>1150</td>\n",
              "      <td>99</td>\n",
              "    </tr>\n",
              "    <tr>\n",
              "      <th>10</th>\n",
              "      <td>Hyundai</td>\n",
              "      <td>I20</td>\n",
              "      <td>1.1</td>\n",
              "      <td>980</td>\n",
              "      <td>99</td>\n",
              "    </tr>\n",
              "    <tr>\n",
              "      <th>11</th>\n",
              "      <td>Suzuki</td>\n",
              "      <td>Swift</td>\n",
              "      <td>1.3</td>\n",
              "      <td>990</td>\n",
              "      <td>101</td>\n",
              "    </tr>\n",
              "    <tr>\n",
              "      <th>12</th>\n",
              "      <td>Ford</td>\n",
              "      <td>Fiesta</td>\n",
              "      <td>1.0</td>\n",
              "      <td>1112</td>\n",
              "      <td>99</td>\n",
              "    </tr>\n",
              "    <tr>\n",
              "      <th>13</th>\n",
              "      <td>Honda</td>\n",
              "      <td>Civic</td>\n",
              "      <td>1.6</td>\n",
              "      <td>1252</td>\n",
              "      <td>94</td>\n",
              "    </tr>\n",
              "    <tr>\n",
              "      <th>14</th>\n",
              "      <td>Hundai</td>\n",
              "      <td>I30</td>\n",
              "      <td>1.6</td>\n",
              "      <td>1326</td>\n",
              "      <td>97</td>\n",
              "    </tr>\n",
              "    <tr>\n",
              "      <th>15</th>\n",
              "      <td>Opel</td>\n",
              "      <td>Astra</td>\n",
              "      <td>1.6</td>\n",
              "      <td>1330</td>\n",
              "      <td>97</td>\n",
              "    </tr>\n",
              "    <tr>\n",
              "      <th>16</th>\n",
              "      <td>BMW</td>\n",
              "      <td>1</td>\n",
              "      <td>1.6</td>\n",
              "      <td>1365</td>\n",
              "      <td>99</td>\n",
              "    </tr>\n",
              "    <tr>\n",
              "      <th>17</th>\n",
              "      <td>Mazda</td>\n",
              "      <td>3</td>\n",
              "      <td>2.2</td>\n",
              "      <td>1280</td>\n",
              "      <td>104</td>\n",
              "    </tr>\n",
              "    <tr>\n",
              "      <th>18</th>\n",
              "      <td>Skoda</td>\n",
              "      <td>Rapid</td>\n",
              "      <td>1.6</td>\n",
              "      <td>1119</td>\n",
              "      <td>104</td>\n",
              "    </tr>\n",
              "    <tr>\n",
              "      <th>19</th>\n",
              "      <td>Ford</td>\n",
              "      <td>Focus</td>\n",
              "      <td>2.0</td>\n",
              "      <td>1328</td>\n",
              "      <td>105</td>\n",
              "    </tr>\n",
              "    <tr>\n",
              "      <th>20</th>\n",
              "      <td>Ford</td>\n",
              "      <td>Mondeo</td>\n",
              "      <td>1.6</td>\n",
              "      <td>1584</td>\n",
              "      <td>94</td>\n",
              "    </tr>\n",
              "    <tr>\n",
              "      <th>21</th>\n",
              "      <td>Opel</td>\n",
              "      <td>Insignia</td>\n",
              "      <td>2.0</td>\n",
              "      <td>1428</td>\n",
              "      <td>99</td>\n",
              "    </tr>\n",
              "    <tr>\n",
              "      <th>22</th>\n",
              "      <td>Mercedes</td>\n",
              "      <td>C-Class</td>\n",
              "      <td>2.1</td>\n",
              "      <td>1365</td>\n",
              "      <td>99</td>\n",
              "    </tr>\n",
              "    <tr>\n",
              "      <th>23</th>\n",
              "      <td>Skoda</td>\n",
              "      <td>Octavia</td>\n",
              "      <td>1.6</td>\n",
              "      <td>1415</td>\n",
              "      <td>99</td>\n",
              "    </tr>\n",
              "    <tr>\n",
              "      <th>24</th>\n",
              "      <td>Volvo</td>\n",
              "      <td>S60</td>\n",
              "      <td>2.0</td>\n",
              "      <td>1415</td>\n",
              "      <td>99</td>\n",
              "    </tr>\n",
              "    <tr>\n",
              "      <th>25</th>\n",
              "      <td>Mercedes</td>\n",
              "      <td>CLA</td>\n",
              "      <td>1.5</td>\n",
              "      <td>1465</td>\n",
              "      <td>102</td>\n",
              "    </tr>\n",
              "    <tr>\n",
              "      <th>26</th>\n",
              "      <td>Audi</td>\n",
              "      <td>A4</td>\n",
              "      <td>2.0</td>\n",
              "      <td>1490</td>\n",
              "      <td>104</td>\n",
              "    </tr>\n",
              "    <tr>\n",
              "      <th>27</th>\n",
              "      <td>Audi</td>\n",
              "      <td>A6</td>\n",
              "      <td>2.0</td>\n",
              "      <td>1725</td>\n",
              "      <td>114</td>\n",
              "    </tr>\n",
              "    <tr>\n",
              "      <th>28</th>\n",
              "      <td>Volvo</td>\n",
              "      <td>V70</td>\n",
              "      <td>1.6</td>\n",
              "      <td>1523</td>\n",
              "      <td>109</td>\n",
              "    </tr>\n",
              "    <tr>\n",
              "      <th>29</th>\n",
              "      <td>BMW</td>\n",
              "      <td>5</td>\n",
              "      <td>2.0</td>\n",
              "      <td>1705</td>\n",
              "      <td>114</td>\n",
              "    </tr>\n",
              "    <tr>\n",
              "      <th>30</th>\n",
              "      <td>Mercedes</td>\n",
              "      <td>E-Class</td>\n",
              "      <td>2.1</td>\n",
              "      <td>1605</td>\n",
              "      <td>115</td>\n",
              "    </tr>\n",
              "    <tr>\n",
              "      <th>31</th>\n",
              "      <td>Volvo</td>\n",
              "      <td>XC70</td>\n",
              "      <td>2.0</td>\n",
              "      <td>1746</td>\n",
              "      <td>117</td>\n",
              "    </tr>\n",
              "    <tr>\n",
              "      <th>32</th>\n",
              "      <td>Ford</td>\n",
              "      <td>B-Max</td>\n",
              "      <td>1.6</td>\n",
              "      <td>1235</td>\n",
              "      <td>104</td>\n",
              "    </tr>\n",
              "    <tr>\n",
              "      <th>33</th>\n",
              "      <td>BMW</td>\n",
              "      <td>216</td>\n",
              "      <td>1.6</td>\n",
              "      <td>1390</td>\n",
              "      <td>108</td>\n",
              "    </tr>\n",
              "    <tr>\n",
              "      <th>34</th>\n",
              "      <td>Opel</td>\n",
              "      <td>Zafira</td>\n",
              "      <td>1.6</td>\n",
              "      <td>1405</td>\n",
              "      <td>109</td>\n",
              "    </tr>\n",
              "    <tr>\n",
              "      <th>35</th>\n",
              "      <td>Mercedes</td>\n",
              "      <td>SLK</td>\n",
              "      <td>2.5</td>\n",
              "      <td>1395</td>\n",
              "      <td>120</td>\n",
              "    </tr>\n",
              "  </tbody>\n",
              "</table>\n",
              "</div>\n",
              "      <button class=\"colab-df-convert\" onclick=\"convertToInteractive('df-d8207ab3-6e7a-4418-bc80-b24cfaa0bbbc')\"\n",
              "              title=\"Convert this dataframe to an interactive table.\"\n",
              "              style=\"display:none;\">\n",
              "        \n",
              "  <svg xmlns=\"http://www.w3.org/2000/svg\" height=\"24px\"viewBox=\"0 0 24 24\"\n",
              "       width=\"24px\">\n",
              "    <path d=\"M0 0h24v24H0V0z\" fill=\"none\"/>\n",
              "    <path d=\"M18.56 5.44l.94 2.06.94-2.06 2.06-.94-2.06-.94-.94-2.06-.94 2.06-2.06.94zm-11 1L8.5 8.5l.94-2.06 2.06-.94-2.06-.94L8.5 2.5l-.94 2.06-2.06.94zm10 10l.94 2.06.94-2.06 2.06-.94-2.06-.94-.94-2.06-.94 2.06-2.06.94z\"/><path d=\"M17.41 7.96l-1.37-1.37c-.4-.4-.92-.59-1.43-.59-.52 0-1.04.2-1.43.59L10.3 9.45l-7.72 7.72c-.78.78-.78 2.05 0 2.83L4 21.41c.39.39.9.59 1.41.59.51 0 1.02-.2 1.41-.59l7.78-7.78 2.81-2.81c.8-.78.8-2.07 0-2.86zM5.41 20L4 18.59l7.72-7.72 1.47 1.35L5.41 20z\"/>\n",
              "  </svg>\n",
              "      </button>\n",
              "      \n",
              "  <style>\n",
              "    .colab-df-container {\n",
              "      display:flex;\n",
              "      flex-wrap:wrap;\n",
              "      gap: 12px;\n",
              "    }\n",
              "\n",
              "    .colab-df-convert {\n",
              "      background-color: #E8F0FE;\n",
              "      border: none;\n",
              "      border-radius: 50%;\n",
              "      cursor: pointer;\n",
              "      display: none;\n",
              "      fill: #1967D2;\n",
              "      height: 32px;\n",
              "      padding: 0 0 0 0;\n",
              "      width: 32px;\n",
              "    }\n",
              "\n",
              "    .colab-df-convert:hover {\n",
              "      background-color: #E2EBFA;\n",
              "      box-shadow: 0px 1px 2px rgba(60, 64, 67, 0.3), 0px 1px 3px 1px rgba(60, 64, 67, 0.15);\n",
              "      fill: #174EA6;\n",
              "    }\n",
              "\n",
              "    [theme=dark] .colab-df-convert {\n",
              "      background-color: #3B4455;\n",
              "      fill: #D2E3FC;\n",
              "    }\n",
              "\n",
              "    [theme=dark] .colab-df-convert:hover {\n",
              "      background-color: #434B5C;\n",
              "      box-shadow: 0px 1px 3px 1px rgba(0, 0, 0, 0.15);\n",
              "      filter: drop-shadow(0px 1px 2px rgba(0, 0, 0, 0.3));\n",
              "      fill: #FFFFFF;\n",
              "    }\n",
              "  </style>\n",
              "\n",
              "      <script>\n",
              "        const buttonEl =\n",
              "          document.querySelector('#df-d8207ab3-6e7a-4418-bc80-b24cfaa0bbbc button.colab-df-convert');\n",
              "        buttonEl.style.display =\n",
              "          google.colab.kernel.accessAllowed ? 'block' : 'none';\n",
              "\n",
              "        async function convertToInteractive(key) {\n",
              "          const element = document.querySelector('#df-d8207ab3-6e7a-4418-bc80-b24cfaa0bbbc');\n",
              "          const dataTable =\n",
              "            await google.colab.kernel.invokeFunction('convertToInteractive',\n",
              "                                                     [key], {});\n",
              "          if (!dataTable) return;\n",
              "\n",
              "          const docLinkHtml = 'Like what you see? Visit the ' +\n",
              "            '<a target=\"_blank\" href=https://colab.research.google.com/notebooks/data_table.ipynb>data table notebook</a>'\n",
              "            + ' to learn more about interactive tables.';\n",
              "          element.innerHTML = '';\n",
              "          dataTable['output_type'] = 'display_data';\n",
              "          await google.colab.output.renderOutput(dataTable, element);\n",
              "          const docLink = document.createElement('div');\n",
              "          docLink.innerHTML = docLinkHtml;\n",
              "          element.appendChild(docLink);\n",
              "        }\n",
              "      </script>\n",
              "    </div>\n",
              "  </div>\n",
              "  "
            ]
          },
          "metadata": {},
          "execution_count": 3
        }
      ]
    },
    {
      "cell_type": "code",
      "source": [
        "from sklearn import linear_model\n",
        "from sklearn.preprocessing import StandardScaler\n",
        "scale = StandardScaler()"
      ],
      "metadata": {
        "id": "ZWlqutvmUuB9"
      },
      "execution_count": null,
      "outputs": []
    },
    {
      "cell_type": "code",
      "source": [
        "#scaling the values of Weight and Volume\n",
        "X2 = df_cars2[['Weight', 'Volume']]\n",
        "\n",
        "scaledX2 = scale.fit_transform(X2)\n",
        "\n",
        "print(scaledX2)"
      ],
      "metadata": {
        "colab": {
          "base_uri": "https://localhost:8080/"
        },
        "id": "PQR8NdlEUzSA",
        "outputId": "4040af0b-597e-449f-fd43-fc3963452196"
      },
      "execution_count": null,
      "outputs": [
        {
          "output_type": "stream",
          "name": "stdout",
          "text": [
            "[[-2.10389253 -1.59336644]\n",
            " [-0.55407235 -1.07190106]\n",
            " [-1.52166278 -1.59336644]\n",
            " [-1.78973979 -1.85409913]\n",
            " [-0.63784641 -0.28970299]\n",
            " [-1.52166278 -1.59336644]\n",
            " [-0.76769621 -0.55043568]\n",
            " [ 0.3046118  -0.28970299]\n",
            " [-0.7551301  -0.28970299]\n",
            " [-0.59595938 -0.0289703 ]\n",
            " [-1.30803892 -1.33263375]\n",
            " [-1.26615189 -0.81116837]\n",
            " [-0.7551301  -1.59336644]\n",
            " [-0.16871166 -0.0289703 ]\n",
            " [ 0.14125238 -0.0289703 ]\n",
            " [ 0.15800719 -0.0289703 ]\n",
            " [ 0.3046118  -0.0289703 ]\n",
            " [-0.05142797  1.53542584]\n",
            " [-0.72580918 -0.0289703 ]\n",
            " [ 0.14962979  1.01396046]\n",
            " [ 1.2219378  -0.0289703 ]\n",
            " [ 0.5685001   1.01396046]\n",
            " [ 0.3046118   1.27469315]\n",
            " [ 0.51404696 -0.0289703 ]\n",
            " [ 0.51404696  1.01396046]\n",
            " [ 0.72348212 -0.28970299]\n",
            " [ 0.8281997   1.01396046]\n",
            " [ 1.81254495  1.01396046]\n",
            " [ 0.96642691 -0.0289703 ]\n",
            " [ 1.72877089  1.01396046]\n",
            " [ 1.30990057  1.27469315]\n",
            " [ 1.90050772  1.01396046]\n",
            " [-0.23991961 -0.0289703 ]\n",
            " [ 0.40932938 -0.0289703 ]\n",
            " [ 0.47215993 -0.0289703 ]\n",
            " [ 0.4302729   2.31762392]]\n"
          ]
        }
      ]
    },
    {
      "cell_type": "markdown",
      "source": [
        "Using the scaled values from above, let us predict the CO2 emission from a 1.3 liter car that weighs 2300 kilograms:"
      ],
      "metadata": {
        "id": "z6hKz2M4VHsq"
      }
    },
    {
      "cell_type": "code",
      "source": [
        "y2 = df_cars2['CO2']\n",
        "\n",
        "regr = linear_model.LinearRegression()\n",
        "regr.fit(scaledX2, y2)\n",
        "scaled = scale.transform([[2300, 1.3]])\n",
        "predicted_CO2 = regr.predict([scaled[0]])\n",
        "print(predicted_CO2)"
      ],
      "metadata": {
        "colab": {
          "base_uri": "https://localhost:8080/"
        },
        "id": "0K7bLctpVGWa",
        "outputId": "8e745cd6-5f26-47b3-b3c4-f81f7fb909e0"
      },
      "execution_count": null,
      "outputs": [
        {
          "output_type": "stream",
          "name": "stdout",
          "text": [
            "[107.2087328]\n"
          ]
        }
      ]
    },
    {
      "cell_type": "markdown",
      "source": [
        "From the above, we see that we got the same answer we got when we used the volume in cm3.\n",
        "\n",
        "Let us also predict the co2 emission for a car weighing 4,300kg with a 1.3l engine to see if if we will get the same answer we got when using cm3."
      ],
      "metadata": {
        "id": "MftZGD7JWOXc"
      }
    },
    {
      "cell_type": "code",
      "source": [
        "scaled = scale.transform([[4300, 1.3]])\n",
        "predicted_CO2 = regr.predict([scaled[0]])\n",
        "print(predicted_CO2)"
      ],
      "metadata": {
        "colab": {
          "base_uri": "https://localhost:8080/"
        },
        "id": "snhQeIGbWvje",
        "outputId": "f5a04ae0-5b08-4939-cadf-a846c6bd820f"
      },
      "execution_count": null,
      "outputs": [
        {
          "output_type": "stream",
          "name": "stdout",
          "text": [
            "[122.31062734]\n"
          ]
        }
      ]
    },
    {
      "cell_type": "markdown",
      "source": [
        "Yes we got the same answer: 122.310g"
      ],
      "metadata": {
        "id": "VqrCmIu3W9Zo"
      }
    }
  ]
}